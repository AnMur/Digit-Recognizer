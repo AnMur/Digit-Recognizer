{
 "cells": [
  {
   "cell_type": "markdown",
   "metadata": {},
   "source": [
    "\n",
    "\n",
    "# Digit Recognizer\n"
   ]
  },
  {
   "cell_type": "markdown",
   "metadata": {},
   "source": [
    "## 1. Load the data"
   ]
  },
  {
   "cell_type": "code",
   "execution_count": 2,
   "metadata": {},
   "outputs": [],
   "source": [
    "# Import libraries\n",
    "\n",
    "import numpy as np\n",
    "import pandas as pd\n",
    "\n",
    "import seaborn as sns\n",
    "import matplotlib.pyplot as plt\n",
    "\n",
    "from sklearn.model_selection import train_test_split\n",
    "from sklearn.preprocessing import StandardScaler\n",
    "\n",
    "from tensorflow.keras.models import Sequential\n",
    "from tensorflow.keras.layers import Dense,Dropout,Flatten,Conv2D,MaxPool2D\n",
    "from tensorflow.keras.utils import to_categorical\n"
   ]
  },
  {
   "cell_type": "code",
   "execution_count": 44,
   "metadata": {},
   "outputs": [],
   "source": [
    "# Load the data\n",
    "\n",
    "df_train = pd.read_csv('./data/train.csv')\n",
    "df_test = pd.read_csv('./data/test.csv')\n",
    "sample = pd.read_csv('./data/sample_submission.csv')"
   ]
  },
  {
   "cell_type": "markdown",
   "metadata": {},
   "source": [
    "## 2. Preprocessing"
   ]
  },
  {
   "cell_type": "code",
   "execution_count": 45,
   "metadata": {},
   "outputs": [],
   "source": [
    "# Set the target/y and convert to categorical\n",
    "\n",
    "y = to_categorical(df_train['label'])"
   ]
  },
  {
   "cell_type": "code",
   "execution_count": 46,
   "metadata": {},
   "outputs": [],
   "source": [
    "# Set features - X, convert to np.array, convert to float, scale\n",
    "\n",
    "X = df_train.drop(columns = 'label')\n",
    "X = np.array(X)\n",
    "X = X.reshape(X.shape[0], 28, 28, 1)\n",
    "X = X.astype('float32')/255.\n",
    "\n",
    "X_test = df_test\n",
    "X_test = np.array(X_test)\n",
    "X_test = X_test.reshape(X_test.shape[0], 28, 28, 1)\n",
    "X_test = X_test.astype('float32')/255."
   ]
  },
  {
   "cell_type": "markdown",
   "metadata": {},
   "source": [
    "## 3. Modeling on train dataset"
   ]
  },
  {
   "cell_type": "code",
   "execution_count": 47,
   "metadata": {},
   "outputs": [],
   "source": [
    "# Train test split df-train\n",
    "\n",
    "X_train,X_val, y_train, y_val = train_test_split(X, y, random_state = 42)"
   ]
  },
  {
   "cell_type": "code",
   "execution_count": 36,
   "metadata": {
    "scrolled": true
   },
   "outputs": [
    {
     "data": {
      "image/png": "[encoded data removed]",
      "text/plain": [
       "<Figure size 432x288 with 1 Axes>"
      ]
     },
     "metadata": {
      "needs_background": "light"
     },
     "output_type": "display_data"
    }
   ],
   "source": [
    "# Look at the numbers\n",
    "\n",
    "plt.imshow(X_train[1]);"
   ]
  },
  {
   "cell_type": "code",
   "execution_count": 48,
   "metadata": {},
   "outputs": [],
   "source": [
    "# Create network\n",
    "\n",
    "cnn = Sequential()\n",
    "\n",
    "cnn.add(Conv2D(32, kernel_size = (3,3), activation = 'relu', input_shape = (28,28,1)))\n",
    "cnn.add(MaxPool2D(pool_size=(2,2)))\n",
    "cnn.add(Dropout(0.5))\n",
    "\n",
    "cnn.add(Conv2D(64, kernel_size = (3,3), activation = 'relu'))\n",
    "cnn.add(MaxPool2D(pool_size=(2,2)))\n",
    "cnn.add(Dropout(0.5))\n",
    "\n",
    "cnn.add(Conv2D(64, kernel_size = (3,3), activation = 'relu'))\n",
    "\n",
    "cnn.add(Flatten())   \n",
    "\n",
    "cnn.add(Dense(64, activation = 'relu'))\n",
    "cnn.add(Dropout(0.5))\n",
    "\n",
    "cnn.add(Dense(10, activation = 'softmax'))"
   ]
  },
  {
   "cell_type": "code",
   "execution_count": 50,
   "metadata": {},
   "outputs": [
    {
     "name": "stdout",
     "output_type": "stream",
     "text": [
      "Model: \"sequential_3\"\n",
      "_________________________________________________________________\n",
      "Layer (type)                 Output Shape              Param #   \n",
      "=================================================================\n",
      "conv2d_9 (Conv2D)            (None, 26, 26, 32)        320       \n",
      "_________________________________________________________________\n",
      "max_pooling2d_6 (MaxPooling2 (None, 13, 13, 32)        0         \n",
      "_________________________________________________________________\n",
      "dropout_9 (Dropout)          (None, 13, 13, 32)        0         \n",
      "_________________________________________________________________\n",
      "conv2d_10 (Conv2D)           (None, 11, 11, 64)        18496     \n",
      "_________________________________________________________________\n",
      "max_pooling2d_7 (MaxPooling2 (None, 5, 5, 64)          0         \n",
      "_________________________________________________________________\n",
      "dropout_10 (Dropout)         (None, 5, 5, 64)          0         \n",
      "_________________________________________________________________\n",
      "conv2d_11 (Conv2D)           (None, 3, 3, 64)          36928     \n",
      "_________________________________________________________________\n",
      "flatten_3 (Flatten)          (None, 576)               0         \n",
      "_________________________________________________________________\n",
      "dense_6 (Dense)              (None, 64)                36928     \n",
      "_________________________________________________________________\n",
      "dropout_11 (Dropout)         (None, 64)                0         \n",
      "_________________________________________________________________\n",
      "dense_7 (Dense)              (None, 10)                650       \n",
      "=================================================================\n",
      "Total params: 93,322\n",
      "Trainable params: 93,322\n",
      "Non-trainable params: 0\n",
      "_________________________________________________________________\n"
     ]
    }
   ],
   "source": [
    "# Summury of network\n",
    "\n",
    "cnn.summary()"
   ]
  },
  {
   "cell_type": "code",
   "execution_count": 51,
   "metadata": {},
   "outputs": [],
   "source": [
    "# Compile the model\n",
    "\n",
    "cnn.compile(loss='categorical_crossentropy', \n",
    "            optimizer = 'adam', \n",
    "            metrics = ['accuracy'])"
   ]
  },
  {
   "cell_type": "code",
   "execution_count": 57,
   "metadata": {},
   "outputs": [
    {
     "name": "stdout",
     "output_type": "stream",
     "text": [
      "Epoch 1/72\n",
      "493/493 [==============================] - 26s 47ms/step - loss: 0.7139 - accuracy: 0.7659 - val_loss: 0.1409 - val_accuracy: 0.9592\n",
      "Epoch 2/72\n",
      "493/493 [==============================] - 24s 48ms/step - loss: 0.2520 - accuracy: 0.9244 - val_loss: 0.0869 - val_accuracy: 0.9728\n",
      "Epoch 3/72\n",
      "493/493 [==============================] - 26s 52ms/step - loss: 0.1825 - accuracy: 0.9462 - val_loss: 0.0699 - val_accuracy: 0.9770\n",
      "Epoch 4/72\n",
      "493/493 [==============================] - 24s 49ms/step - loss: 0.1499 - accuracy: 0.9555 - val_loss: 0.0554 - val_accuracy: 0.9828\n",
      "Epoch 5/72\n",
      "493/493 [==============================] - 24s 48ms/step - loss: 0.1305 - accuracy: 0.9626 - val_loss: 0.0474 - val_accuracy: 0.9855\n",
      "Epoch 6/72\n",
      "493/493 [==============================] - 24s 49ms/step - loss: 0.1181 - accuracy: 0.9657 - val_loss: 0.0490 - val_accuracy: 0.9847\n",
      "Epoch 7/72\n",
      "493/493 [==============================] - 24s 50ms/step - loss: 0.1046 - accuracy: 0.9697 - val_loss: 0.0467 - val_accuracy: 0.9860\n",
      "Epoch 8/72\n",
      "493/493 [==============================] - 25s 50ms/step - loss: 0.0963 - accuracy: 0.9721 - val_loss: 0.0386 - val_accuracy: 0.9885\n",
      "Epoch 9/72\n",
      "493/493 [==============================] - 25s 50ms/step - loss: 0.0915 - accuracy: 0.9737 - val_loss: 0.0376 - val_accuracy: 0.9883\n",
      "Epoch 10/72\n",
      "493/493 [==============================] - 25s 50ms/step - loss: 0.0841 - accuracy: 0.9753 - val_loss: 0.0370 - val_accuracy: 0.9891\n",
      "Epoch 11/72\n",
      "493/493 [==============================] - 25s 50ms/step - loss: 0.0837 - accuracy: 0.9753 - val_loss: 0.0344 - val_accuracy: 0.9897\n",
      "Epoch 12/72\n",
      "493/493 [==============================] - 24s 50ms/step - loss: 0.0791 - accuracy: 0.9767 - val_loss: 0.0314 - val_accuracy: 0.9902\n",
      "Epoch 13/72\n",
      "493/493 [==============================] - 26s 53ms/step - loss: 0.0798 - accuracy: 0.9770 - val_loss: 0.0340 - val_accuracy: 0.9899\n",
      "Epoch 14/72\n",
      "493/493 [==============================] - 25s 51ms/step - loss: 0.0696 - accuracy: 0.9799 - val_loss: 0.0344 - val_accuracy: 0.9902\n",
      "Epoch 15/72\n",
      "493/493 [==============================] - 25s 51ms/step - loss: 0.0665 - accuracy: 0.9807 - val_loss: 0.0331 - val_accuracy: 0.9901\n",
      "Epoch 16/72\n",
      "493/493 [==============================] - 25s 50ms/step - loss: 0.0666 - accuracy: 0.9809 - val_loss: 0.0324 - val_accuracy: 0.9899\n",
      "Epoch 17/72\n",
      "493/493 [==============================] - 25s 50ms/step - loss: 0.0650 - accuracy: 0.9809 - val_loss: 0.0319 - val_accuracy: 0.9903\n",
      "Epoch 18/72\n",
      "493/493 [==============================] - 24s 49ms/step - loss: 0.0648 - accuracy: 0.9814 - val_loss: 0.0322 - val_accuracy: 0.9903\n",
      "Epoch 19/72\n",
      "493/493 [==============================] - 24s 49ms/step - loss: 0.0624 - accuracy: 0.9824 - val_loss: 0.0328 - val_accuracy: 0.9909\n",
      "Epoch 20/72\n",
      "493/493 [==============================] - 25s 51ms/step - loss: 0.0618 - accuracy: 0.9817 - val_loss: 0.0337 - val_accuracy: 0.9909\n",
      "Epoch 21/72\n",
      "493/493 [==============================] - 25s 50ms/step - loss: 0.0563 - accuracy: 0.9823 - val_loss: 0.0286 - val_accuracy: 0.9921\n",
      "Epoch 22/72\n",
      "493/493 [==============================] - 25s 50ms/step - loss: 0.0583 - accuracy: 0.9830 - val_loss: 0.0274 - val_accuracy: 0.9918\n",
      "Epoch 23/72\n",
      "493/493 [==============================] - 24s 48ms/step - loss: 0.0543 - accuracy: 0.9842 - val_loss: 0.0272 - val_accuracy: 0.9916\n",
      "Epoch 24/72\n",
      "493/493 [==============================] - 24s 49ms/step - loss: 0.0550 - accuracy: 0.9843 - val_loss: 0.0274 - val_accuracy: 0.9922\n",
      "Epoch 25/72\n",
      "493/493 [==============================] - 25s 50ms/step - loss: 0.0548 - accuracy: 0.9831 - val_loss: 0.0298 - val_accuracy: 0.9915\n",
      "Epoch 26/72\n",
      "493/493 [==============================] - 24s 49ms/step - loss: 0.0553 - accuracy: 0.9848 - val_loss: 0.0284 - val_accuracy: 0.9922\n",
      "Epoch 27/72\n",
      "493/493 [==============================] - 26s 52ms/step - loss: 0.0541 - accuracy: 0.9840 - val_loss: 0.0242 - val_accuracy: 0.9931\n",
      "Epoch 28/72\n",
      "493/493 [==============================] - 24s 49ms/step - loss: 0.0504 - accuracy: 0.9845 - val_loss: 0.0286 - val_accuracy: 0.9916\n",
      "Epoch 29/72\n",
      "493/493 [==============================] - 24s 49ms/step - loss: 0.0509 - accuracy: 0.9849 - val_loss: 0.0276 - val_accuracy: 0.9927\n",
      "Epoch 30/72\n",
      "493/493 [==============================] - 24s 48ms/step - loss: 0.0492 - accuracy: 0.9856 - val_loss: 0.0296 - val_accuracy: 0.9920\n",
      "Epoch 31/72\n",
      "493/493 [==============================] - 25s 52ms/step - loss: 0.0492 - accuracy: 0.9856 - val_loss: 0.0257 - val_accuracy: 0.9928\n",
      "Epoch 32/72\n",
      "493/493 [==============================] - 25s 51ms/step - loss: 0.0487 - accuracy: 0.9855 - val_loss: 0.0258 - val_accuracy: 0.9921\n",
      "Epoch 33/72\n",
      "493/493 [==============================] - 24s 49ms/step - loss: 0.0475 - accuracy: 0.9859 - val_loss: 0.0270 - val_accuracy: 0.9929\n",
      "Epoch 34/72\n",
      "493/493 [==============================] - 24s 49ms/step - loss: 0.0480 - accuracy: 0.9853 - val_loss: 0.0318 - val_accuracy: 0.9914\n",
      "Epoch 35/72\n",
      "493/493 [==============================] - 26s 52ms/step - loss: 0.0472 - accuracy: 0.9856 - val_loss: 0.0290 - val_accuracy: 0.9915\n",
      "Epoch 36/72\n",
      "493/493 [==============================] - 25s 52ms/step - loss: 0.0450 - accuracy: 0.9863 - val_loss: 0.0279 - val_accuracy: 0.9919\n",
      "Epoch 37/72\n",
      "493/493 [==============================] - 25s 51ms/step - loss: 0.0463 - accuracy: 0.9868 - val_loss: 0.0281 - val_accuracy: 0.9922\n",
      "Epoch 38/72\n",
      "493/493 [==============================] - 25s 50ms/step - loss: 0.0428 - accuracy: 0.9876 - val_loss: 0.0306 - val_accuracy: 0.9921\n",
      "Epoch 39/72\n",
      "493/493 [==============================] - 25s 50ms/step - loss: 0.0442 - accuracy: 0.9869 - val_loss: 0.0267 - val_accuracy: 0.9924\n",
      "Epoch 40/72\n",
      "493/493 [==============================] - 25s 50ms/step - loss: 0.0417 - accuracy: 0.9883 - val_loss: 0.0255 - val_accuracy: 0.9925\n",
      "Epoch 41/72\n",
      "493/493 [==============================] - 25s 50ms/step - loss: 0.0441 - accuracy: 0.9867 - val_loss: 0.0254 - val_accuracy: 0.9938\n",
      "Epoch 42/72\n",
      "493/493 [==============================] - 24s 49ms/step - loss: 0.0429 - accuracy: 0.9870 - val_loss: 0.0254 - val_accuracy: 0.9930\n",
      "Epoch 43/72\n",
      "493/493 [==============================] - 25s 52ms/step - loss: 0.0465 - accuracy: 0.9864 - val_loss: 0.0253 - val_accuracy: 0.9932\n",
      "Epoch 44/72\n",
      "493/493 [==============================] - 24s 49ms/step - loss: 0.0422 - accuracy: 0.9874 - val_loss: 0.0305 - val_accuracy: 0.9906\n",
      "Epoch 45/72\n",
      "493/493 [==============================] - 25s 50ms/step - loss: 0.0424 - accuracy: 0.9869 - val_loss: 0.0269 - val_accuracy: 0.9928\n",
      "Epoch 46/72\n",
      "493/493 [==============================] - 24s 49ms/step - loss: 0.0423 - accuracy: 0.9863 - val_loss: 0.0288 - val_accuracy: 0.9925\n",
      "Epoch 47/72\n",
      "493/493 [==============================] - 25s 50ms/step - loss: 0.0430 - accuracy: 0.9866 - val_loss: 0.0279 - val_accuracy: 0.9928\n",
      "Epoch 48/72\n",
      "493/493 [==============================] - 24s 49ms/step - loss: 0.0424 - accuracy: 0.9872 - val_loss: 0.0280 - val_accuracy: 0.9930\n",
      "Epoch 49/72\n",
      "493/493 [==============================] - 24s 50ms/step - loss: 0.0454 - accuracy: 0.9872 - val_loss: 0.0241 - val_accuracy: 0.9934\n",
      "Epoch 50/72\n",
      "493/493 [==============================] - 25s 51ms/step - loss: 0.0377 - accuracy: 0.9884 - val_loss: 0.0287 - val_accuracy: 0.9923\n",
      "Epoch 51/72\n",
      "493/493 [==============================] - 24s 49ms/step - loss: 0.0398 - accuracy: 0.9879 - val_loss: 0.0295 - val_accuracy: 0.9923\n",
      "Epoch 52/72\n",
      "493/493 [==============================] - 24s 48ms/step - loss: 0.0418 - accuracy: 0.9881 - val_loss: 0.0245 - val_accuracy: 0.9935\n",
      "Epoch 53/72\n",
      "493/493 [==============================] - 24s 48ms/step - loss: 0.0406 - accuracy: 0.9874 - val_loss: 0.0256 - val_accuracy: 0.9940\n",
      "Epoch 54/72\n",
      "493/493 [==============================] - 24s 48ms/step - loss: 0.0377 - accuracy: 0.9880 - val_loss: 0.0263 - val_accuracy: 0.9930\n",
      "Epoch 55/72\n",
      "493/493 [==============================] - 24s 50ms/step - loss: 0.0382 - accuracy: 0.9883 - val_loss: 0.0289 - val_accuracy: 0.9921\n",
      "Epoch 56/72\n",
      "493/493 [==============================] - 25s 51ms/step - loss: 0.0393 - accuracy: 0.9885 - val_loss: 0.0252 - val_accuracy: 0.9930\n",
      "Epoch 57/72\n"
     ]
    },
    {
     "name": "stdout",
     "output_type": "stream",
     "text": [
      "493/493 [==============================] - 25s 51ms/step - loss: 0.0372 - accuracy: 0.9885 - val_loss: 0.0300 - val_accuracy: 0.9928\n",
      "Epoch 58/72\n",
      "493/493 [==============================] - 27s 55ms/step - loss: 0.0392 - accuracy: 0.9880 - val_loss: 0.0291 - val_accuracy: 0.9930\n",
      "Epoch 59/72\n",
      "493/493 [==============================] - 25s 52ms/step - loss: 0.0371 - accuracy: 0.9894 - val_loss: 0.0289 - val_accuracy: 0.9930\n",
      "Epoch 60/72\n",
      "493/493 [==============================] - 25s 51ms/step - loss: 0.0416 - accuracy: 0.9876 - val_loss: 0.0316 - val_accuracy: 0.9916\n",
      "Epoch 61/72\n",
      "493/493 [==============================] - 25s 51ms/step - loss: 0.0366 - accuracy: 0.9890 - val_loss: 0.0285 - val_accuracy: 0.9928\n",
      "Epoch 62/72\n",
      "493/493 [==============================] - 25s 51ms/step - loss: 0.0349 - accuracy: 0.9896 - val_loss: 0.0327 - val_accuracy: 0.9913\n",
      "Epoch 63/72\n",
      "493/493 [==============================] - 25s 50ms/step - loss: 0.0386 - accuracy: 0.9885 - val_loss: 0.0286 - val_accuracy: 0.9921\n",
      "Epoch 64/72\n",
      "493/493 [==============================] - 25s 51ms/step - loss: 0.0364 - accuracy: 0.9884 - val_loss: 0.0275 - val_accuracy: 0.9930\n",
      "Epoch 65/72\n",
      "493/493 [==============================] - 24s 49ms/step - loss: 0.0337 - accuracy: 0.9892 - val_loss: 0.0260 - val_accuracy: 0.9929\n",
      "Epoch 66/72\n",
      "493/493 [==============================] - 23s 47ms/step - loss: 0.0387 - accuracy: 0.9883 - val_loss: 0.0272 - val_accuracy: 0.9920\n",
      "Epoch 67/72\n",
      "493/493 [==============================] - 23s 47ms/step - loss: 0.0356 - accuracy: 0.9887 - val_loss: 0.0259 - val_accuracy: 0.9932\n",
      "Epoch 68/72\n",
      "493/493 [==============================] - 24s 49ms/step - loss: 0.0334 - accuracy: 0.9901 - val_loss: 0.0284 - val_accuracy: 0.9926\n",
      "Epoch 69/72\n",
      "493/493 [==============================] - 24s 48ms/step - loss: 0.0383 - accuracy: 0.9885 - val_loss: 0.0277 - val_accuracy: 0.9930\n",
      "Epoch 70/72\n",
      "493/493 [==============================] - 24s 49ms/step - loss: 0.0379 - accuracy: 0.9886 - val_loss: 0.0265 - val_accuracy: 0.9932\n",
      "Epoch 71/72\n",
      "493/493 [==============================] - 24s 50ms/step - loss: 0.0347 - accuracy: 0.9893 - val_loss: 0.0279 - val_accuracy: 0.9928\n",
      "Epoch 72/72\n",
      "493/493 [==============================] - 25s 51ms/step - loss: 0.0326 - accuracy: 0.9894 - val_loss: 0.0230 - val_accuracy: 0.9933\n"
     ]
    }
   ],
   "source": [
    "# Fit the model\n",
    "\n",
    "history = cnn.fit(X_train, y_train,\n",
    "                  batch_size=64,\n",
    "                  validation_data = (X_val, y_val),\n",
    "                  epochs=72,\n",
    "                  verbose=1)"
   ]
  },
  {
   "cell_type": "code",
   "execution_count": 58,
   "metadata": {},
   "outputs": [
    {
     "name": "stdout",
     "output_type": "stream",
     "text": [
      "329/329 [==============================] - 11s 4ms/step - loss: 0.0230 - accuracy: 0.9933\n"
     ]
    },
    {
     "data": {
      "text/plain": [
       "[0.023038579151034355, 0.9933333396911621]"
      ]
     },
     "execution_count": 58,
     "metadata": {},
     "output_type": "execute_result"
    }
   ],
   "source": [
    "# Last score\n",
    "\n",
    "cnn.evaluate(X_val,y_val)"
   ]
  },
  {
   "cell_type": "code",
   "execution_count": 59,
   "metadata": {},
   "outputs": [
    {
     "data": {
      "image/png": "[encoded data removed]",
      "text/plain": [
       "<Figure size 432x288 with 1 Axes>"
      ]
     },
     "metadata": {
      "needs_background": "light"
     },
     "output_type": "display_data"
    },
    {
     "data": {
      "text/plain": [
       "<Figure size 432x288 with 0 Axes>"
      ]
     },
     "metadata": {},
     "output_type": "display_data"
    }
   ],
   "source": [
    "# Plot the loss score. Loss is a prediction error of Neural Net. \n",
    "# And the method to calculate the loss is called the Loss Function. \n",
    "# Loss is used to calculate the gradients. And gradients are used to update the weights of the Neural Net.\n",
    "\n",
    "train_loss = history.history['loss']\n",
    "test_loss = history.history['val_loss']\n",
    "\n",
    "plt.plot(range(len(train_loss)), train_loss, 'b', label='Training loss')\n",
    "plt.plot(range(len(train_loss)), test_loss, 'r', label='Test loss')\n",
    "plt.title('Training and Test loss')\n",
    "plt.xlabel('Epochs ',fontsize=16)\n",
    "plt.ylabel('Loss',fontsize=16)\n",
    "plt.legend()\n",
    "plt.figure()\n",
    "plt.show()"
   ]
  },
  {
   "cell_type": "code",
   "execution_count": 60,
   "metadata": {},
   "outputs": [
    {
     "data": {
      "image/png": "[encoded data removed]",
      "text/plain": [
       "<Figure size 432x288 with 1 Axes>"
      ]
     },
     "metadata": {
      "needs_background": "light"
     },
     "output_type": "display_data"
    }
   ],
   "source": [
    "# Plot the accuracy score\n",
    "\n",
    "plt.plot(history.history['accuracy'], label='accuracy')\n",
    "plt.plot(history.history['val_accuracy'], label = 'val_accuracy')\n",
    "plt.xlabel('Epoch')\n",
    "plt.ylabel('Accuracy')\n",
    "plt.ylim([0.5, 1])\n",
    "plt.legend(loc='lower right');\n",
    "\n",
    "# test_loss, test_acc = cnn.evaluate(test_images,  test_labels, verbose=2)"
   ]
  },
  {
   "cell_type": "markdown",
   "metadata": {},
   "source": [
    "## 4. Predictions and Submissions"
   ]
  },
  {
   "cell_type": "code",
   "execution_count": 61,
   "metadata": {},
   "outputs": [],
   "source": [
    "# get predictions on test dataset\n",
    "\n",
    "pred = cnn.predict(X_test)"
   ]
  },
  {
   "cell_type": "code",
   "execution_count": 62,
   "metadata": {},
   "outputs": [
    {
     "data": {
      "text/plain": [
       "(28000, 10)"
      ]
     },
     "execution_count": 62,
     "metadata": {},
     "output_type": "execute_result"
    }
   ],
   "source": [
    "# Check the predictions shape, needs to be 1 dimens\n",
    "\n",
    "pred.shape"
   ]
  },
  {
   "cell_type": "code",
   "execution_count": 63,
   "metadata": {},
   "outputs": [
    {
     "data": {
      "text/plain": [
       "array([8.30473129e-22, 1.44234449e-19, 1.00000000e+00, 5.83557420e-16,\n",
       "       1.23175145e-26, 1.16266243e-27, 1.48523758e-26, 5.03825371e-19,\n",
       "       8.21360504e-17, 3.06821471e-26], dtype=float32)"
      ]
     },
     "execution_count": 63,
     "metadata": {},
     "output_type": "execute_result"
    }
   ],
   "source": [
    "# Look at every score  = 0,1,2,3...9\n",
    "\n",
    "pred[0]"
   ]
  },
  {
   "cell_type": "code",
   "execution_count": 64,
   "metadata": {},
   "outputs": [
    {
     "data": {
      "text/plain": [
       "1.0"
      ]
     },
     "execution_count": 64,
     "metadata": {},
     "output_type": "execute_result"
    }
   ],
   "source": [
    "# sum to get the total\n",
    "\n",
    "pred[1].sum()"
   ]
  },
  {
   "cell_type": "code",
   "execution_count": 65,
   "metadata": {},
   "outputs": [
    {
     "data": {
      "text/plain": [
       "array([2, 0, 9, ..., 3, 9, 2], dtype=int64)"
      ]
     },
     "execution_count": 65,
     "metadata": {},
     "output_type": "execute_result"
    }
   ],
   "source": [
    "# returns the max value from given axis\n",
    "\n",
    "pred.argmax(axis = 1)"
   ]
  },
  {
   "cell_type": "code",
   "execution_count": 66,
   "metadata": {},
   "outputs": [],
   "source": [
    "# Create label column for test df with argmax values\n",
    "\n",
    "sample['Label'] = pred.argmax(axis = 1)"
   ]
  },
  {
   "cell_type": "code",
   "execution_count": 67,
   "metadata": {},
   "outputs": [
    {
     "data": {
      "text/html": [
       "<div>\n",
       "<style scoped>\n",
       "    .dataframe tbody tr th:only-of-type {\n",
       "        vertical-align: middle;\n",
       "    }\n",
       "\n",
       "    .dataframe tbody tr th {\n",
       "        vertical-align: top;\n",
       "    }\n",
       "\n",
       "    .dataframe thead th {\n",
       "        text-align: right;\n",
       "    }\n",
       "</style>\n",
       "<table border=\"1\" class=\"dataframe\">\n",
       "  <thead>\n",
       "    <tr style=\"text-align: right;\">\n",
       "      <th></th>\n",
       "      <th>ImageId</th>\n",
       "      <th>Label</th>\n",
       "    </tr>\n",
       "  </thead>\n",
       "  <tbody>\n",
       "    <tr>\n",
       "      <th>0</th>\n",
       "      <td>1</td>\n",
       "      <td>2</td>\n",
       "    </tr>\n",
       "    <tr>\n",
       "      <th>1</th>\n",
       "      <td>2</td>\n",
       "      <td>0</td>\n",
       "    </tr>\n",
       "    <tr>\n",
       "      <th>2</th>\n",
       "      <td>3</td>\n",
       "      <td>9</td>\n",
       "    </tr>\n",
       "    <tr>\n",
       "      <th>3</th>\n",
       "      <td>4</td>\n",
       "      <td>9</td>\n",
       "    </tr>\n",
       "    <tr>\n",
       "      <th>4</th>\n",
       "      <td>5</td>\n",
       "      <td>3</td>\n",
       "    </tr>\n",
       "  </tbody>\n",
       "</table>\n",
       "</div>"
      ],
      "text/plain": [
       "   ImageId  Label\n",
       "0        1      2\n",
       "1        2      0\n",
       "2        3      9\n",
       "3        4      9\n",
       "4        5      3"
      ]
     },
     "execution_count": 67,
     "metadata": {},
     "output_type": "execute_result"
    }
   ],
   "source": [
    "sample.head(5)"
   ]
  },
  {
   "cell_type": "code",
   "execution_count": 68,
   "metadata": {},
   "outputs": [],
   "source": [
    "#convert to csv and submit to Kaggle\n",
    "\n",
    "sample.to_csv('./data/submission.csv',index=False)"
   ]
  }
 ],
 "metadata": {
  "kernelspec": {
   "display_name": "Python 3",
   "language": "python",
   "name": "python3"
  },
  "language_info": {
   "codemirror_mode": {
    "name": "ipython",
    "version": 3
   },
   "file_extension": ".py",
   "mimetype": "text/x-python",
   "name": "python",
   "nbconvert_exporter": "python",
   "pygments_lexer": "ipython3",
   "version": "3.8.8"
  }
 },
 "nbformat": 4,
 "nbformat_minor": 4
}
